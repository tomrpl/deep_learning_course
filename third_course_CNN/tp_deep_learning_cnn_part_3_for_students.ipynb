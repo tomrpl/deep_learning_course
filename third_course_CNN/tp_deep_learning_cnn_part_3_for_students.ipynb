{
  "nbformat": 4,
  "nbformat_minor": 0,
  "metadata": {
    "colab": {
      "name": "tp_deep_learning_cnn_part_3_for_students.ipynb",
      "provenance": [],
      "collapsed_sections": []
    },
    "kernelspec": {
      "name": "python3",
      "display_name": "Python 3"
    },
    "language_info": {
      "name": "python"
    },
    "accelerator": "GPU"
  },
  "cells": [
    {
      "cell_type": "markdown",
      "metadata": {
        "id": "mPf2yufekv0f"
      },
      "source": [
        "\n",
        "# TP CNN, part 3 : super-resolution\n",
        "\n",
        "Author : Alasdair Newson\n",
        "alasdair.newson@telecom-paris.fr\n",
        " \n",
        "## Objective:\n",
        "\n",
        "We want to implement a Convolutional Neural Network (CNN) to do image super-resolution.\n",
        "\n",
        "## Image super-resolution:\n",
        "\n",
        "The super-resolution problem can be summarised as follows. We have an image as an input, which is defined over a grid $\\{0,1,\\dots, m-1\\} \\times \\{0,1,\\dots, n-1\\}$. We define a factor $\\delta$, by which we upsample the image. The output of the super-resolution is an image defined on the grid $\\{0,\\frac{1}{\\delta},\\dots, m-1\\} \\times \\{0,\\frac{1}{\\delta},\\dots, n-1\\}$.\n",
        "\n",
        "## Model\n",
        "\n",
        "In this part of the TP, you have complete freedom to create any model you want, as long as the input is an image, and the output is also an image of size $\\delta m \\times \\delta n$. You will have to choose the architecture and loss which seems reasonable to you.\n",
        "\n",
        "To help you, here is a function to upsample images in neural networks :\n",
        "\n",
        "- ```from tensorflow.keras.layers import UpSampling2D```\n",
        "\n",
        "Of course, you can use any upsampling layer you wish. \n",
        "\n",
        "## Dataset\n",
        "\n",
        "We will be using the mnist dataset for this part. This is to ensure that you can obtain good results. The input data should be the subsampled version of the mnist images, subsampled by taking one out of every $\\delta$ pixels. The output data should be the normal-resolution mnist images.\n",
        "\n",
        "__IMPORTANT NOTES:__\n",
        "- Think carefully about what the training data and labels are in this case, and create them accordingly\n",
        "- We will use ```n_max=5000``` to limit the number of datapoints (as in part 1) to go faster\n",
        "- We set $\\delta$ to 2 in this TP, because it is not too difficult to create a network that works with this factor. If you change it, it might be more difficult to create a satisfactory network.\n",
        "\n",
        "# Your task:\n",
        "You have to load the mnist data (see the first part of the TP), create the model, train it, and evaluate and display the results.\n",
        "\n",
        "We have created a function ```super_res_interpolate```, which carries out super-resolution using basic interpolation (bilinear or bicubic), with which you can compare your results visually and numerically.\n",
        "\n"
      ]
    },
    {
      "cell_type": "code",
      "metadata": {
        "id": "5utO2_UDyKs3",
        "colab": {
          "base_uri": "https://localhost:8080/"
        },
        "outputId": "b972f5b8-1f5f-4797-b233-3446e68e9aeb"
      },
      "source": [
        "\n",
        "# # Load packages\n",
        "\n",
        "%matplotlib inline\n",
        "import matplotlib.pyplot as plt\n",
        "import numpy as np\n",
        "from keras.datasets import mnist\n",
        "import tensorflow as tf\n",
        "from tensorflow.keras.utils import to_categorical\n",
        "\n",
        "from tensorflow.keras.models import Sequential, Model\n",
        "from tensorflow.keras.layers import Dense, Dropout, Activation, Flatten, Input\n",
        "from tensorflow.keras.layers import Conv2D, MaxPooling2D, UpSampling2D\n",
        "from tensorflow.keras import optimizers\n",
        "from scipy import interpolate\n",
        "print(tf.keras.__version__)"
      ],
      "execution_count": null,
      "outputs": [
        {
          "output_type": "stream",
          "name": "stdout",
          "text": [
            "2.7.0\n"
          ]
        }
      ]
    },
    {
      "cell_type": "markdown",
      "metadata": {
        "id": "mcXyExW4vgmk"
      },
      "source": [
        "This next cell is the only code you are given to carry out the TP. This function carries out a bilinear upsampling, with which you can compare your super-resolution. This function is __not__ supposed to be used by you in your network."
      ]
    },
    {
      "cell_type": "code",
      "metadata": {
        "id": "np3Dj3tuqEqn"
      },
      "source": [
        "# choice of the interpolation method\n",
        "interp_method = 'linear'\n",
        "# upsampling factor\n",
        "delta = 2\n",
        "# the maximum number of data to take from mnist (to go a bit faster)\n",
        "n_max = 5000\n",
        "\n",
        "# upsample by a factor of delta\n",
        "# by definition, the new grid has a step size of 1/delta\n",
        "def super_res_interpolate(imgs_in,delta,interp_method = 'linear'):\n",
        "\timgs_out = tf.image.resize( tf.constant(imgs_in),\\\n",
        "\t\t[delta*imgs_in.shape[1],delta*imgs_in.shape[2]], method='bilinear').numpy()\n",
        "\n",
        "\treturn(imgs_out)\n"
      ],
      "execution_count": null,
      "outputs": []
    },
    {
      "cell_type": "markdown",
      "metadata": {
        "id": "vLGjn0zP5h0V"
      },
      "source": [
        "## Create your super-resolution network\n",
        "\n",
        "The rest is up to you ! Import the data, format it (you can use the first part of the TP as help), create your network, train it, and compare the results with ```super_res_interpolate```.\n",
        "\n",
        "Your network should be able to achieve about $80\\%$ accuracy.\n",
        "\n",
        "__Note__ you can obviously create as many cells as you like in your work."
      ]
    },
    {
      "cell_type": "markdown",
      "metadata": {
        "id": "Wh8jRgZy7T3y"
      },
      "source": [
        "1 : MNIST Dataset"
      ]
    },
    {
      "cell_type": "code",
      "metadata": {
        "id": "Hfx5BxeUqKf-"
      },
      "source": [
        "def subsample(image, delta):\n",
        "\n",
        "\n",
        "  n = image.shape[0]\n",
        "  tempo = n // delta\n",
        "  new_image = np.zeros((tempo, tempo))\n",
        "  for i in range(n):\n",
        "    for j in range(n):\n",
        "      if i%delta and j%delta:\n",
        "        new_image[i//delta][j//delta] = image[i][j]\n",
        "\n",
        "  return new_image"
      ],
      "execution_count": null,
      "outputs": []
    },
    {
      "cell_type": "markdown",
      "metadata": {
        "id": "gDljtwWv7wHr"
      },
      "source": [
        "Reshape part: "
      ]
    },
    {
      "cell_type": "code",
      "metadata": {
        "id": "YDC9nC9G7sgo"
      },
      "source": [
        "def reshape(X):\n",
        "  img_rows, img_cols, nb_channels = X.shape[1], X.shape[2], 1\n",
        "  X = X.reshape(X.shape[0], img_rows, img_cols, nb_channels)\n",
        "  X = X.astype('float32')\n",
        "  X /= 255\n",
        "  return X"
      ],
      "execution_count": null,
      "outputs": []
    },
    {
      "cell_type": "code",
      "metadata": {
        "id": "LsiN-XV57sjc"
      },
      "source": [
        "(X_train, _), (X_test, _) = mnist.load_data()\n",
        "X_train = X_train[0:n_max,:,:]\n",
        "X_test = X_test[0:n_max,:,:]\n",
        "\n",
        "X_train_subsampled = np.array([subsample(img, delta) for img in X_train])\n",
        "X_test_subsampled = np.array([subsample(img, delta) for img in X_test])\n",
        "\n",
        "X_train = reshape(X_train)\n",
        "X_test = reshape(X_test)\n",
        "X_train_subsampled = reshape(X_train_subsampled)\n",
        "X_test = reshape(X_test)"
      ],
      "execution_count": null,
      "outputs": []
    },
    {
      "cell_type": "markdown",
      "metadata": {
        "id": "0PSYwYJn_cu3"
      },
      "source": [
        "2: Model"
      ]
    },
    {
      "cell_type": "code",
      "metadata": {
        "id": "gns2IuLc7sm1"
      },
      "source": [
        "learning_rate = 0.01\n",
        "n_epochs = 15\n",
        "batch_size = 64\n",
        "\n",
        "# number of convolutional filters to use\n",
        "nb_filters = 32\n",
        "\n",
        "# convolution kernel size\n",
        "kernel_size = (3, 3)\n",
        "\n",
        "# size of pooling area for max pooling\n",
        "pool_size = (2, 2)\n",
        "\n",
        "# --- Size of the successive layers\n",
        "n_h_1 = nb_filters\n",
        "n_h_2 = nb_filters"
      ],
      "execution_count": null,
      "outputs": []
    },
    {
      "cell_type": "code",
      "metadata": {
        "id": "zju6SXL88KJR"
      },
      "source": [
        "model = Sequential()\n",
        "model.add(Conv2D(filters=n_h_1, kernel_size=kernel_size, name='Conv1', strides=(1,1), padding='same', activation='relu'))\n",
        "model.add(Conv2D(filters=n_h_2, kernel_size=kernel_size, name='Conv2', strides=(1,1), padding='same', activation='relu'))\n",
        "model.add(UpSampling2D((2, 2)))\n",
        "model.add(Conv2D(1, (3, 3), activation='sigmoid', padding='same'))"
      ],
      "execution_count": null,
      "outputs": []
    },
    {
      "cell_type": "markdown",
      "metadata": {
        "id": "FosNoswC_iKc"
      },
      "source": [
        "3 : Training and accuracy"
      ]
    },
    {
      "cell_type": "code",
      "metadata": {
        "colab": {
          "base_uri": "https://localhost:8080/"
        },
        "id": "u4uZitSK8QEZ",
        "outputId": "0c92f3d5-ac7f-40dd-e836-a53ed2b9ee6b"
      },
      "source": [
        "model.compile(optimizer=optimizers.Adam(learning_rate=learning_rate), loss='mean_squared_error', metrics=['accuracy'])\n",
        "model.fit(X_train_subsampled, X_train, epochs=n_epochs, batch_size=batch_size)\n",
        "model.summary()"
      ],
      "execution_count": null,
      "outputs": [
        {
          "output_type": "stream",
          "name": "stdout",
          "text": [
            "Epoch 1/15\n",
            "79/79 [==============================] - 1s 8ms/step - loss: 0.0205 - accuracy: 0.8101\n",
            "Epoch 2/15\n",
            "79/79 [==============================] - 1s 8ms/step - loss: 0.0067 - accuracy: 0.8141\n",
            "Epoch 3/15\n",
            "79/79 [==============================] - 1s 8ms/step - loss: 0.0061 - accuracy: 0.8143\n",
            "Epoch 4/15\n",
            "79/79 [==============================] - 1s 8ms/step - loss: 0.0059 - accuracy: 0.8143\n",
            "Epoch 5/15\n",
            "79/79 [==============================] - 1s 9ms/step - loss: 0.0057 - accuracy: 0.8144\n",
            "Epoch 6/15\n",
            "79/79 [==============================] - 1s 9ms/step - loss: 0.0055 - accuracy: 0.8144\n",
            "Epoch 7/15\n",
            "79/79 [==============================] - 1s 8ms/step - loss: 0.0054 - accuracy: 0.8144\n",
            "Epoch 8/15\n",
            "79/79 [==============================] - 1s 9ms/step - loss: 0.0052 - accuracy: 0.8145\n",
            "Epoch 9/15\n",
            "79/79 [==============================] - 1s 8ms/step - loss: 0.0052 - accuracy: 0.8145\n",
            "Epoch 10/15\n",
            "79/79 [==============================] - 1s 9ms/step - loss: 0.0051 - accuracy: 0.8145\n",
            "Epoch 11/15\n",
            "79/79 [==============================] - 1s 8ms/step - loss: 0.0051 - accuracy: 0.8145\n",
            "Epoch 12/15\n",
            "79/79 [==============================] - 1s 9ms/step - loss: 0.0050 - accuracy: 0.8145\n",
            "Epoch 13/15\n",
            "79/79 [==============================] - 1s 9ms/step - loss: 0.0050 - accuracy: 0.8145\n",
            "Epoch 14/15\n",
            "79/79 [==============================] - 1s 8ms/step - loss: 0.0050 - accuracy: 0.8145\n",
            "Epoch 15/15\n",
            "79/79 [==============================] - 1s 8ms/step - loss: 0.0049 - accuracy: 0.8145\n",
            "Model: \"sequential_5\"\n",
            "_________________________________________________________________\n",
            " Layer (type)                Output Shape              Param #   \n",
            "=================================================================\n",
            " Conv1 (Conv2D)              (None, 14, 14, 32)        320       \n",
            "                                                                 \n",
            " Conv2 (Conv2D)              (None, 14, 14, 32)        9248      \n",
            "                                                                 \n",
            " up_sampling2d_5 (UpSampling  (None, 28, 28, 32)       0         \n",
            " 2D)                                                             \n",
            "                                                                 \n",
            " conv2d_5 (Conv2D)           (None, 28, 28, 1)         289       \n",
            "                                                                 \n",
            "=================================================================\n",
            "Total params: 9,857\n",
            "Trainable params: 9,857\n",
            "Non-trainable params: 0\n",
            "_________________________________________________________________\n"
          ]
        }
      ]
    },
    {
      "cell_type": "code",
      "metadata": {
        "colab": {
          "base_uri": "https://localhost:8080/"
        },
        "id": "-4cQp9h18jq6",
        "outputId": "4763fe4e-3e8e-4c4b-fcdf-a84864e04d9b"
      },
      "source": [
        "score = model.evaluate(X_train_subsampled, X_train, verbose=False)\n",
        "print('Train loss is equal to ', score[0])\n",
        "print('Train accuracy is equal to ', score[1])"
      ],
      "execution_count": null,
      "outputs": [
        {
          "output_type": "stream",
          "name": "stdout",
          "text": [
            "Train loss is equal to  0.004873429890722036\n",
            "Train accuracy is equal to  0.8147132396697998\n"
          ]
        }
      ]
    },
    {
      "cell_type": "code",
      "metadata": {
        "colab": {
          "base_uri": "https://localhost:8080/"
        },
        "id": "z139woRd9wCN",
        "outputId": "52bea046-c3be-4f46-8dad-bce6ff670852"
      },
      "source": [
        "score = model.evaluate(X_test_subsampled, X_test, verbose=False)\n",
        "print('Test loss is equal to ', score[0])\n",
        "print('Test accuracy is equal to', score[1])"
      ],
      "execution_count": null,
      "outputs": [
        {
          "output_type": "stream",
          "name": "stdout",
          "text": [
            "Test loss is equal to  0.2942585349082947\n",
            "Test accuracy is equal to 0.7025954127311707\n"
          ]
        }
      ]
    },
    {
      "cell_type": "markdown",
      "metadata": {
        "id": "Alxrq_ed-uJg"
      },
      "source": [
        "4 : Display Images"
      ]
    },
    {
      "cell_type": "code",
      "metadata": {
        "id": "JsIVfmTt-rQ7"
      },
      "source": [
        "images_predicted_model = model.predict(X_test_subsampled)\n",
        "images_predicted_func = super_res_interpolate(X_test_subsampled, delta)"
      ],
      "execution_count": null,
      "outputs": []
    },
    {
      "cell_type": "code",
      "metadata": {
        "colab": {
          "base_uri": "https://localhost:8080/"
        },
        "id": "vbJeUJvm-rTe",
        "outputId": "d51fa8e2-2d42-46d6-f5b2-2dbf5fb681eb"
      },
      "source": [
        "images_predicted_model.shape, images_predicted_func.shape, X_test_subsampled.shape"
      ],
      "execution_count": 53,
      "outputs": [
        {
          "output_type": "execute_result",
          "data": {
            "text/plain": [
              "((5000, 28, 28, 1), (28, 28, 14), (5000, 14, 14))"
            ]
          },
          "metadata": {},
          "execution_count": 53
        }
      ]
    },
    {
      "cell_type": "code",
      "metadata": {
        "colab": {
          "base_uri": "https://localhost:8080/",
          "height": 761
        },
        "id": "6na7LjVj_CTT",
        "outputId": "238e7e5c-3a80-47c8-8397-73df3e4c0013"
      },
      "source": [
        "plt.imshow(X_test[10].reshape(28, 28), cmap='gray')\n",
        "plt.show()\n",
        "plt.imshow(X_test_subsampled[10].reshape(14, 14), cmap='gray')\n",
        "plt.show()\n",
        "plt.imshow(images_predicted_model[10].reshape(28, 28), cmap='gray')\n",
        "plt.show()"
      ],
      "execution_count": null,
      "outputs": [
        {
          "output_type": "display_data",
          "data": {
            "image/png": "[encoded data removed]",
            "text/plain": [
              "<Figure size 432x288 with 1 Axes>"
            ]
          },
          "metadata": {
            "needs_background": "light"
          }
        },
        {
          "output_type": "display_data",
          "data": {
            "image/png": "[encoded data removed]",
            "text/plain": [
              "<Figure size 432x288 with 1 Axes>"
            ]
          },
          "metadata": {
            "needs_background": "light"
          }
        },
        {
          "output_type": "display_data",
          "data": {
            "image/png": "[encoded data removed]",
            "text/plain": [
              "<Figure size 432x288 with 1 Axes>"
            ]
          },
          "metadata": {
            "needs_background": "light"
          }
        }
      ]
    },
    {
      "cell_type": "code",
      "metadata": {
        "colab": {
          "base_uri": "https://localhost:8080/",
          "height": 761
        },
        "id": "xHROVYkl_CZ4",
        "outputId": "725f2c3b-916e-48d9-e3b3-4f6a3adeb5ce"
      },
      "source": [
        "plt.imshow(X_test[11].reshape(28, 28), cmap='gray')\n",
        "plt.show()\n",
        "plt.imshow(X_test_subsampled[11].reshape(14, 14), cmap='gray')\n",
        "plt.show()\n",
        "plt.imshow(images_predicted_model[11].reshape(28, 28), cmap='gray')\n",
        "plt.show()"
      ],
      "execution_count": null,
      "outputs": [
        {
          "output_type": "display_data",
          "data": {
            "image/png": "[encoded data removed]",
            "text/plain": [
              "<Figure size 432x288 with 1 Axes>"
            ]
          },
          "metadata": {
            "needs_background": "light"
          }
        },
        {
          "output_type": "display_data",
          "data": {
            "image/png": "[encoded data removed]",
            "text/plain": [
              "<Figure size 432x288 with 1 Axes>"
            ]
          },
          "metadata": {
            "needs_background": "light"
          }
        },
        {
          "output_type": "display_data",
          "data": {
            "image/png": "[encoded data removed]",
            "text/plain": [
              "<Figure size 432x288 with 1 Axes>"
            ]
          },
          "metadata": {
            "needs_background": "light"
          }
        }
      ]
    },
    {
      "cell_type": "code",
      "metadata": {
        "id": "W35TzTpe_Cft"
      },
      "source": [
        ""
      ],
      "execution_count": null,
      "outputs": []
    },
    {
      "cell_type": "markdown",
      "metadata": {
        "id": "nssRP8NRAQtA"
      },
      "source": [
        "# Evaluation\n",
        "\n",
        "To evaluate the work, you should rate the code for \n",
        "- 1) Importing MNIST correctly (correctly formatting the data) : 1 point\n",
        "- 2) Creating a model which makes sense (correct input/output sizes) : 1 point\n",
        "- 3) Training and achieving good results  : 2 points. 1 point if the learning increases but does not reach around $80\\%$, 2 points if the learning reaches around $80\\%$\n",
        "- 4) Display a visual comparison of your network with ```super_res_interpolate``` for several examples\n",
        "\n",
        "Total over 5 points.\n"
      ]
    },
    {
      "cell_type": "code",
      "metadata": {
        "id": "8_L8xTL3-9UO"
      },
      "source": [
        ""
      ],
      "execution_count": null,
      "outputs": []
    }
  ]
}